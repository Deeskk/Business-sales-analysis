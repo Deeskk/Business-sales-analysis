{
 "cells": [
  {
   "cell_type": "markdown",
   "metadata": {},
   "source": [
    "Importing libraries"
   ]
  },
  {
   "cell_type": "code",
   "execution_count": 70,
   "metadata": {},
   "outputs": [],
   "source": [
    "# Importing the necessary libraries\n",
    "import pandas as pd\n",
    "import matplotlib.pyplot as plt"
   ]
  },
  {
   "cell_type": "markdown",
   "metadata": {},
   "source": [
    "Read data to dataframe"
   ]
  },
  {
   "cell_type": "code",
   "execution_count": 84,
   "metadata": {},
   "outputs": [],
   "source": [
    "#Creating the dataframe\n",
    "sales_data= pd.read_csv(\"all_data.csv\")\n",
    "\n",
    "#Getting an overview of the data\n",
    "print(\"columns= \",sales_data.columns,\"\\nno of rows and columns= \",sales_data.shape)"
   ]
  },
  {
   "cell_type": "markdown",
   "metadata": {},
   "source": [
    "Cleaning up the data"
   ]
  },
  {
   "cell_type": "code",
   "execution_count": 72,
   "metadata": {},
   "outputs": [],
   "source": [
    "#Viewing the empty rows\n",
    "nan_rows= sales_data[sales_data.isnull().any(axis=1)]\n",
    "\n",
    "#Drop the empty rows\n",
    "sales_data= sales_data.dropna(how=\"all\")\n",
    "\n",
    "#Reset the index as the index would be changed as we dropped some rows\n",
    "sales_data=sales_data.reset_index(drop=True)\n",
    "\n",
    "#Converting columns to their correct data type\n",
    "sales_data[\"Quantity Ordered\"]= pd.to_numeric(sales_data[\"Quantity Ordered\"], errors=\"coerce\")\n",
    "sales_data[\"Price Each\"]=pd.to_numeric(sales_data[\"Price Each\"], errors=\"coerce\")\n"
   ]
  },
  {
   "attachments": {},
   "cell_type": "markdown",
   "metadata": {},
   "source": [
    "Question1: What was the best month for sales? "
   ]
  },
  {
   "cell_type": "markdown",
   "metadata": {},
   "source": [
    "Add a month column to the dataframe"
   ]
  },
  {
   "cell_type": "code",
   "execution_count": 73,
   "metadata": {},
   "outputs": [],
   "source": [
    "sales_data[\"Month\"]= sales_data[\"Order Date\"].str[0:2]\n",
    "\n",
    "#Convert the month column to integer so further analysis can be done with it\n",
    "#sales_data[\"Month\"]= sales_data[\"Month\"].astype(\"int\")\n",
    "#at first when this code was tried it gave the error \"ValueError: invalid literal for int() with base 10: 'Or'\" because some of the months were appearing as \"Or\" instead of the correct month for some reason.\n",
    "\n",
    "sales_data=sales_data[sales_data[\"Order ID\"].str[0:2] != \"Or\"] #This is a condition for the rows with the \"Or\" to be ingnored and select the ones without it\n",
    "sales_data[\"Month\"]=sales_data[\"Month\"].astype(\"int32\")"
   ]
  },
  {
   "cell_type": "markdown",
   "metadata": {},
   "source": [
    "Adding a Sales column"
   ]
  },
  {
   "cell_type": "code",
   "execution_count": 75,
   "metadata": {},
   "outputs": [],
   "source": [
    "sales_data[\"Sales\"]= sales_data[\"Quantity Ordered\"] * sales_data[\"Price Each\"]\n",
    "\n",
    "#Rearranging the columns to place sales closer to the beginning\n",
    "sales_data= sales_data.iloc[:,[0,1,2,3,7,4,5,6]]"
   ]
  },
  {
   "cell_type": "markdown",
   "metadata": {},
   "source": [
    "Answering the question"
   ]
  },
  {
   "cell_type": "code",
   "execution_count": 86,
   "metadata": {},
   "outputs": [],
   "source": [
    "result= sales_data.groupby(\"Month\")[[\"Price Each\", \"Quantity Ordered\",\"Sales\"]].sum().reset_index()\n",
    "\n",
    "#Plotting the result\n",
    "plt.bar(result[\"Month\"], result[\"Sales\"])\n",
    "plt.xticks(result[\"Month\"])\n",
    "plt.xlabel(\"Months\")\n",
    "plt.ylabel(\"Sales in USD\")\n",
    "plt.show()"
   ]
  },
  {
   "cell_type": "markdown",
   "metadata": {},
   "source": [
    "Question2: What City has the highest number of Sales"
   ]
  },
  {
   "cell_type": "markdown",
   "metadata": {},
   "source": [
    "Creating and extracting a city value"
   ]
  },
  {
   "cell_type": "code",
   "execution_count": 77,
   "metadata": {},
   "outputs": [],
   "source": [
    "def get_city(address):\n",
    "    return address.split(\",\")[1]\n",
    "\n",
    "def get_code(address):\n",
    "    return address.split(\",\")[2].split()[0]\n",
    "\n",
    "sales_data[\"City\"]= sales_data[\"Purchase Address\"].apply(lambda x: (f\"{get_city(x)}  {get_code(x)}\"))"
   ]
  },
  {
   "cell_type": "markdown",
   "metadata": {},
   "source": [
    "Answering the question"
   ]
  },
  {
   "cell_type": "code",
   "execution_count": 87,
   "metadata": {},
   "outputs": [],
   "source": [
    "max_sale=sales_data.groupby(\"City\")[[\"Sales\"]].sum().reset_index()\n",
    "plt.bar(max_sale[\"City\"], max_sale[\"Sales\"])\n",
    "plt.xticks(max_sale[\"City\"],rotation=\"vertical\")\n",
    "plt.xlabel(\"City Name\")\n",
    "plt.ylabel(\"Sales in USD\")\n",
    "\n",
    "plt.show()"
   ]
  },
  {
   "cell_type": "markdown",
   "metadata": {},
   "source": [
    "What time should we post advertistements to maximize likelyhood of customers buying products"
   ]
  },
  {
   "cell_type": "code",
   "execution_count": 81,
   "metadata": {},
   "outputs": [],
   "source": [
    "#Convert the order date column to date time format\n",
    "sales_data[\"Order Date\"]= pd.to_datetime(sales_data[\"Order Date\"])"
   ]
  },
  {
   "cell_type": "code",
   "execution_count": 82,
   "metadata": {},
   "outputs": [],
   "source": [
    "#Add hour,minutes column\n",
    "sales_data[\"Hour\"]=sales_data[\"Order Date\"].dt.hour\n",
    "sales_data[\"Minute\"]= sales_data[\"Order Date\"].dt.minute"
   ]
  },
  {
   "cell_type": "code",
   "execution_count": 88,
   "metadata": {},
   "outputs": [],
   "source": [
    "hours=sales_data.groupby(\"Hour\").count().reset_index()\n",
    "plt.plot(hours[\"Hour\"], hours)\n",
    "plt.xticks(hours[\"Hour\"])\n",
    "plt.xlabel(\"Hours\")\n",
    "plt.ylabel(\"Hours Count\")\n",
    "plt.grid()\n",
    "plt.show"
   ]
  },
  {
   "cell_type": "markdown",
   "metadata": {},
   "source": [
    "What items are most often sold together "
   ]
  },
  {
   "cell_type": "code",
   "execution_count": 89,
   "metadata": {},
   "outputs": [],
   "source": [
    "#How to know the products that were sold together is that they would have the same order ID\n",
    "sold_together=sales_data[sales_data[\"Order ID\"].duplicated(keep=False)].reset_index()\n",
    "\n",
    "#Create a new column that has the two products that were bought together and separate them with a comma\n",
    "sold_together[\"Grouped\"]= sold_together.groupby(\"Order ID\")[\"Product\"].transform(lambda x: \",\". join (x))\n",
    "grouped_products= sold_together[[\"Order ID\", \"Grouped\"]].drop_duplicates()\n",
    "grouped_products.head()"
   ]
  },
  {
   "cell_type": "code",
   "execution_count": 90,
   "metadata": {},
   "outputs": [],
   "source": [
    "#Count the pairs that occurred the most\n",
    "from itertools import combinations\n",
    "from collections import Counter\n",
    "\n",
    "count= Counter()\n",
    "for row in grouped_products[\"Grouped\"]:\n",
    "    row_list= row.split(\",\")\n",
    "    count.update(Counter(combinations(row_list, 2)))\n",
    "for key, value in count.most_common(10):\n",
    "    print(key, value)"
   ]
  },
  {
   "cell_type": "markdown",
   "metadata": {},
   "source": [
    "What Product sold the most and why do you think it sold the most?"
   ]
  },
  {
   "cell_type": "code",
   "execution_count": 91,
   "metadata": {},
   "outputs": [],
   "source": [
    "products_sold= sales_data.groupby(\"Product\")[\"Quantity Ordered\"].sum().reset_index()\n",
    "quantity_ordered= products_sold[\"Quantity Ordered\"]\n",
    "plt.bar(products_sold[\"Product\"], quantity_ordered)\n",
    "plt.xticks(rotation=\"vertical\")\n",
    "plt.ylabel(\"Quantity Ordered\")\n",
    "plt.xlabel(\"Product\")\n",
    "plt.show()"
   ]
  },
  {
   "attachments": {},
   "cell_type": "markdown",
   "metadata": {},
   "source": [
    "Checking the correlation between the quantity ordered and the prices"
   ]
  },
  {
   "cell_type": "code",
   "execution_count": 92,
   "metadata": {},
   "outputs": [],
   "source": [
    "prices= sales_data.groupby(\"Product\")[\"Price Each\"].mean()\n",
    "\n",
    "fig, ax1= plt.subplots()\n",
    "ax2=ax1.twinx()\n",
    "ax1.bar(products_sold[\"Product\"],quantity_ordered, color= \"g\")\n",
    "ax2.plot(products_sold[\"Product\"], prices, \"b-\")\n",
    "\n",
    "ax1.set_xlabel(\"Product Name\")\n",
    "ax2.set_ylabel(\"Quantity Ordered\", color=\"g\")\n",
    "ax1.set_xticklabels(products_sold[\"Product\"],rotation=\"vertical\")\n",
    "plt.show()"
   ]
  }
 ],
 "metadata": {
  "kernelspec": {
   "display_name": "Python 3.10.7 64-bit",
   "language": "python",
   "name": "python3"
  },
  "language_info": {
   "codemirror_mode": {
    "name": "ipython",
    "version": 3
   },
   "file_extension": ".py",
   "mimetype": "text/x-python",
   "name": "python",
   "nbconvert_exporter": "python",
   "pygments_lexer": "ipython3",
   "version": "3.10.7"
  },
  "orig_nbformat": 4,
  "vscode": {
   "interpreter": {
    "hash": "aee8b7b246df8f9039afb4144a1f6fd8d2ca17a180786b69acc140d282b71a49"
   }
  }
 },
 "nbformat": 4,
 "nbformat_minor": 2
}
